{
 "cells": [
  {
   "cell_type": "markdown",
   "id": "027070c6-fc42-42bf-b462-dc841e6b86ce",
   "metadata": {},
   "source": [
    "### Projecting onto a real SLM\n",
    "\n",
    "In this notebook, we attempt to project onto a SLM a calculated pattern. We make use of `ScreenMirrored`, which is supposed to handle SLMs that are implemented as simply an additional monitor on your computer. Note that `ScrrenMirrored` will only work with `pyglet` version smaller than 2.0. I am using `1.5.28` at the moment."
   ]
  },
  {
   "cell_type": "code",
   "execution_count": 1,
   "id": "ffa9933d-4899-4b6d-ab2c-464aa9e4780a",
   "metadata": {},
   "outputs": [
    {
     "name": "stdout",
     "output_type": "stream",
     "text": [
      "cupy not installed. Using numpy.\n"
     ]
    }
   ],
   "source": [
    "import slmsuite.hardware.slms.screenmirrored\n",
    "import Interface\n",
    "from matplotlib import pyplot as plt\n",
    "import matplotlib as mpl\n",
    "import numpy as np\n",
    "\n",
    "%matplotlib inline"
   ]
  },
  {
   "cell_type": "code",
   "execution_count": 2,
   "id": "38939c19-15d6-41e5-a302-427ef13e2926",
   "metadata": {},
   "outputs": [
    {
     "name": "stdout",
     "output_type": "stream",
     "text": [
      "Display Positions:\n",
      "#,  Position\n",
      "0,  x=0, y=0, width=1920, height=1080 (main)\n",
      "1,  x=3840, y=0, width=1920, height=1080\n"
     ]
    }
   ],
   "source": [
    "# We use the static function .info() to display all monitors.\n",
    "slm_list = slmsuite.hardware.slms.screenmirrored.ScreenMirrored.info()"
   ]
  },
  {
   "cell_type": "code",
   "execution_count": 3,
   "id": "d51df91d-20f2-45ee-ae9f-a342f5f7181c",
   "metadata": {},
   "outputs": [
    {
     "name": "stdout",
     "output_type": "stream",
     "text": [
      "Initializing pyglet... success\n",
      "Searching for window with display_number=1... success\n",
      "Creating window... [Errno 2] No such file or directory: 'C:\\\\ProgramFiles\\\\Python39\\\\Lib\\\\site-packages\\\\slmsuite\\\\hardware\\\\slms\\\\..\\\\..\\\\..\\\\docs\\\\source\\\\static\\\\qp-slm-notext-16x16.png'\n",
      "success\n"
     ]
    }
   ],
   "source": [
    "monitor_num = 1\n",
    "monitor_width = slm_list[monitor_num][1][2] # This holds the momitor width\n",
    "monitor_length = slm_list[monitor_num][1][3] # This holds the monitor length\n",
    "\n",
    "# Create SLM based on this monitor\n",
    "slm = slmsuite.hardware.slms.screenmirrored.ScreenMirrored(monitor_num)"
   ]
  },
  {
   "cell_type": "markdown",
   "id": "28a20fb2-bc19-45b7-ab29-3564ef4b3c81",
   "metadata": {},
   "source": [
    "Now with the created SLM, we can set the interface to use this slm, and then begin calculation of a particular phase pattern."
   ]
  },
  {
   "cell_type": "code",
   "execution_count": 5,
   "id": "0dbc8a9c-e867-4892-8ee6-ab06c7caf73c",
   "metadata": {},
   "outputs": [
    {
     "name": "stderr",
     "output_type": "stream",
     "text": [
      "100%|██████████| 20/20 [00:22<00:00,  1.11s/it]\n"
     ]
    },
    {
     "data": {
      "text/plain": [
       "(None, None, 1)"
      ]
     },
     "execution_count": 5,
     "metadata": {},
     "output_type": "execute_result"
    }
   ],
   "source": [
    "iface = Interface.SLMSuiteInterface()\n",
    "iface.set_SLM(slm) # can put in a SLM as an argument. No argument uses the default virtual SLM\n",
    "iface.set_camera() # Same here, use a default virtual camera. Default camera has 1024 x 1024 pixels\n",
    "\n",
    "computational_space = (2048,2048) # Space in which to do a calculation\n",
    "\n",
    "# the target lives in the (1024,1024) camera space if a camera is provided, otherwise it lives in the computational k-space.\n",
    "# How you want to create this is of course up to you\n",
    "ntargets = 2\n",
    "targets = np.zeros((2,ntargets))\n",
    "targets[0,:] = np.array([500,600]) # x-coordinates of the targets\n",
    "targets[1,:] = np.array([500,700]) # y-coordinates of the targets\n",
    "iface.calculate(computational_space, targets)"
   ]
  },
  {
   "cell_type": "markdown",
   "id": "23bf6a9d-3ec2-4d3d-9d50-40b2f6f7a656",
   "metadata": {},
   "source": [
    "Now, we extract the phase and write it to the SLM."
   ]
  },
  {
   "cell_type": "code",
   "execution_count": null,
   "id": "594e97d6-30c3-40cb-930a-b9084f9a590c",
   "metadata": {},
   "outputs": [],
   "source": [
    "slm_phase = iface.get_phase()\n",
    "iface.write_to_SLM(slm_phase)"
   ]
  },
  {
   "cell_type": "code",
   "execution_count": null,
   "id": "d730e2ee-d359-4521-bcfb-0d0bb24220b7",
   "metadata": {},
   "outputs": [],
   "source": [
    "iface.plot_slmplane()\n",
    "iface.plot_farfield()"
   ]
  }
 ],
 "metadata": {
  "kernelspec": {
   "display_name": "Python 3 (ipykernel)",
   "language": "python",
   "name": "python3"
  },
  "language_info": {
   "codemirror_mode": {
    "name": "ipython",
    "version": 3
   },
   "file_extension": ".py",
   "mimetype": "text/x-python",
   "name": "python",
   "nbconvert_exporter": "python",
   "pygments_lexer": "ipython3",
   "version": "3.9.13"
  }
 },
 "nbformat": 4,
 "nbformat_minor": 5
}
